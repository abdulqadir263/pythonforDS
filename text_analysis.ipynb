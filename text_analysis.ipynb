{
 "cells": [
  {
   "cell_type": "markdown",
   "id": "c023d7f0-03cf-40c2-858c-14c749f1a864",
   "metadata": {},
   "source": [
    "# Text Analysis with Python"
   ]
  },
  {
   "cell_type": "code",
   "execution_count": 1,
   "id": "f4ce1aa9-fbe3-4b3d-b8e8-873a771e494b",
   "metadata": {},
   "outputs": [],
   "source": [
    "string=\"Lorem ipsum dolor! diam amet, consetetur Lorem magna. sed diam nonumy eirmod tempor. diam et labore? et diam magna. et diam amet.\""
   ]
  },
  {
   "cell_type": "code",
   "execution_count": 10,
   "id": "90f76a1f-e9e1-44e9-adbf-ba2246382f56",
   "metadata": {},
   "outputs": [],
   "source": [
    "class TextAnalyzer(object):\n",
    "    def __init__(self, text):\n",
    "        # Remove punctuation and lowercase\n",
    "        formattedText = text.replace('.','').replace('!','').replace('?','').replace(',','')\n",
    "        formattedText = formattedText.lower()\n",
    "        self.fmtText = formattedText  # Store formatted text\n",
    "\n",
    "    def freqAll(self):\n",
    "        # Split into words (handles multiple spaces)\n",
    "        wordlist = self.fmtText.split()  # split() without args ignores extra spaces\n",
    "        freqMap = {}\n",
    "        for word in set(wordlist):  # Use set to avoid duplicates\n",
    "            freqMap[word] = wordlist.count(word)\n",
    "        return freqMap\n",
    "\n",
    "    def freqOf(self, word):\n",
    "        freqDict = self.freqAll()\n",
    "        return freqDict.get(word, 0)  # Return 0 if word not found "
   ]
  },
  {
   "cell_type": "code",
   "execution_count": 11,
   "id": "37eb50e3-c00f-4aa6-8fba-e4a3229588f2",
   "metadata": {},
   "outputs": [],
   "source": [
    "analyzed = TextAnalyzer(string)"
   ]
  },
  {
   "cell_type": "code",
   "execution_count": 12,
   "id": "cc02e8a3-5dce-4749-bab5-ab96b177a357",
   "metadata": {},
   "outputs": [
    {
     "name": "stdout",
     "output_type": "stream",
     "text": [
      "Formatted Text:  lorem ipsum dolor diam amet consetetur lorem magna sed diam nonumy eirmod tempor diam et labore et diam magna et diam amet\n"
     ]
    }
   ],
   "source": [
    "print(\"Formatted Text: \", analyzed.fmtText)"
   ]
  },
  {
   "cell_type": "code",
   "execution_count": 13,
   "id": "cc04044a-0889-4ddb-9c37-8d4e2de94d98",
   "metadata": {},
   "outputs": [
    {
     "name": "stdout",
     "output_type": "stream",
     "text": [
      "{'amet': 2, 'tempor': 1, 'diam': 5, 'eirmod': 1, 'ipsum': 1, 'lorem': 2, 'dolor': 1, 'sed': 1, 'labore': 1, 'et': 3, 'consetetur': 1, 'nonumy': 1, 'magna': 2}\n"
     ]
    }
   ],
   "source": [
    "freqMap = analyzed.freqAll()\n",
    "print(freqMap)"
   ]
  },
  {
   "cell_type": "code",
   "execution_count": 14,
   "id": "0701a883-2abe-4d88-a7c1-b3d5f00ec1b4",
   "metadata": {},
   "outputs": [
    {
     "name": "stdout",
     "output_type": "stream",
     "text": [
      "The word lorem appears 2 times.\n"
     ]
    }
   ],
   "source": [
    "word = \"lorem\"\n",
    "frequency = analyzed.freqOf(word)\n",
    "print(\"The word\",word,\"appears\",frequency,\"times.\")"
   ]
  },
  {
   "cell_type": "code",
   "execution_count": null,
   "id": "a882ec4d-a6f3-4602-b843-8bc5eb2b0a50",
   "metadata": {},
   "outputs": [],
   "source": []
  }
 ],
 "metadata": {
  "kernelspec": {
   "display_name": "Python 3 (ipykernel)",
   "language": "python",
   "name": "python3"
  },
  "language_info": {
   "codemirror_mode": {
    "name": "ipython",
    "version": 3
   },
   "file_extension": ".py",
   "mimetype": "text/x-python",
   "name": "python",
   "nbconvert_exporter": "python",
   "pygments_lexer": "ipython3",
   "version": "3.12.9"
  }
 },
 "nbformat": 4,
 "nbformat_minor": 5
}
