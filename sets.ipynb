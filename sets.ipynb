{
 "cells": [
  {
   "cell_type": "markdown",
   "id": "b7b929e7-bf1b-4110-a659-be89312990f1",
   "metadata": {},
   "source": [
    "# Sets in Python"
   ]
  },
  {
   "cell_type": "code",
   "execution_count": 2,
   "id": "90ac072c-4ae6-424f-b684-c315eb901870",
   "metadata": {},
   "outputs": [
    {
     "data": {
      "text/plain": [
       "{'Cristiano Ronaldo',\n",
       " 'Erling Haaland',\n",
       " 'Kevin De Bruyne',\n",
       " 'Kylian Mbappé',\n",
       " 'Lionel Messi',\n",
       " 'Luka Modrić',\n",
       " 'Mohamed Salah',\n",
       " 'Neymar Jr',\n",
       " 'Robert Lewandowski',\n",
       " 'Virgil van Dijk'}"
      ]
     },
     "execution_count": 2,
     "metadata": {},
     "output_type": "execute_result"
    }
   ],
   "source": [
    "players = { \"Lionel Messi\", \"Cristiano Ronaldo\", \"Neymar Jr\", \"Kylian Mbappé\", \"Robert Lewandowski\", \"Kevin De Bruyne\", \"Virgil van Dijk\", \"Mohamed Salah\", \"Erling Haaland\", \"Luka Modrić\" }\n",
    "players"
   ]
  },
  {
   "cell_type": "code",
   "execution_count": 3,
   "id": "da7c2941-b493-453d-b6fc-f6ad0c49fc9a",
   "metadata": {},
   "outputs": [
    {
     "data": {
      "text/plain": [
       "{'R&B', 'disco', 'hard rock', 'pop', 'rock', 'soul'}"
      ]
     },
     "execution_count": 3,
     "metadata": {},
     "output_type": "execute_result"
    }
   ],
   "source": [
    "music_list = [\"pop\", \"rock\", \"soul\", \"hard rock\", \"rock\", \"R&B\", \"rock\", \"disco\"]\n",
    "music_set = set(music_list)\n",
    "music_set"
   ]
  },
  {
   "cell_type": "code",
   "execution_count": 6,
   "id": "18f69292-b456-4166-a7a3-24f8a899db0a",
   "metadata": {},
   "outputs": [
    {
     "data": {
      "text/plain": [
       "{'Angel D Maria',\n",
       " 'Cristiano Ronaldo',\n",
       " 'Erling Haaland',\n",
       " 'Kevin De Bruyne',\n",
       " 'Kylian Mbappé',\n",
       " 'Lionel Messi',\n",
       " 'Luka Modrić',\n",
       " 'Mohamed Salah',\n",
       " 'Neymar Jr',\n",
       " 'Robert Lewandowski',\n",
       " 'Virgil van Dijk'}"
      ]
     },
     "execution_count": 6,
     "metadata": {},
     "output_type": "execute_result"
    }
   ],
   "source": [
    "#adding elements in set\n",
    "players.add(\"Angel D Maria\")\n",
    "players"
   ]
  },
  {
   "cell_type": "code",
   "execution_count": 7,
   "id": "6b9185a6-dcc3-4d00-8353-e8b43bc9d8bd",
   "metadata": {},
   "outputs": [
    {
     "data": {
      "text/plain": [
       "{'Angel D Maria',\n",
       " 'Cristiano Ronaldo',\n",
       " 'Erling Haaland',\n",
       " 'Kevin De Bruyne',\n",
       " 'Kylian Mbappé',\n",
       " 'Lionel Messi',\n",
       " 'Luka Modrić',\n",
       " 'Mohamed Salah',\n",
       " 'Neymar Jr',\n",
       " 'Robert Lewandowski',\n",
       " 'Virgil van Dijk'}"
      ]
     },
     "execution_count": 7,
     "metadata": {},
     "output_type": "execute_result"
    }
   ],
   "source": [
    "#sets can't duplicate items\n",
    "players.add(\"Angel D Maria\")\n",
    "players"
   ]
  },
  {
   "cell_type": "code",
   "execution_count": 8,
   "id": "dcb72b87-37a3-4e7e-8c23-f9a956e504a7",
   "metadata": {},
   "outputs": [
    {
     "data": {
      "text/plain": [
       "{'Angel D Maria',\n",
       " 'Cristiano Ronaldo',\n",
       " 'Erling Haaland',\n",
       " 'Kevin De Bruyne',\n",
       " 'Kylian Mbappé',\n",
       " 'Lionel Messi',\n",
       " 'Luka Modrić',\n",
       " 'Mohamed Salah'}"
      ]
     },
     "execution_count": 8,
     "metadata": {},
     "output_type": "execute_result"
    }
   ],
   "source": [
    "#removing elements from sets\n",
    "players.remove(\"Virgil van Dijk\")\n",
    "players.remove(\"Robert Lewandowski\")\n",
    "players.remove('Neymar Jr')\n",
    "players"
   ]
  },
  {
   "cell_type": "code",
   "execution_count": 9,
   "id": "a20139d4-4ecc-415c-b6d0-4dc9db5d755a",
   "metadata": {},
   "outputs": [
    {
     "data": {
      "text/plain": [
       "True"
      ]
     },
     "execution_count": 9,
     "metadata": {},
     "output_type": "execute_result"
    }
   ],
   "source": [
    "#checking if element is in set\n",
    "'Lionel Messi' in players"
   ]
  },
  {
   "cell_type": "code",
   "execution_count": 10,
   "id": "222a7aa5-9fd0-438e-b46e-1679e398126b",
   "metadata": {},
   "outputs": [
    {
     "data": {
      "text/plain": [
       "False"
      ]
     },
     "execution_count": 10,
     "metadata": {},
     "output_type": "execute_result"
    }
   ],
   "source": [
    "'Neymar Jr' in players"
   ]
  },
  {
   "cell_type": "code",
   "execution_count": 11,
   "id": "65047409-74f6-44a4-a3d7-657346417ec4",
   "metadata": {},
   "outputs": [],
   "source": [
    "album_set1 = set([\"Thriller\", 'AC/DC', 'Back in Black'])\n",
    "album_set2 = set([ \"AC/DC\", \"Back in Black\", \"The Dark Side of the Moon\"])"
   ]
  },
  {
   "cell_type": "code",
   "execution_count": 12,
   "id": "1180c50e-bc2c-4eaf-869f-cc602cb92b76",
   "metadata": {},
   "outputs": [
    {
     "data": {
      "text/plain": [
       "({'AC/DC', 'Back in Black', 'Thriller'},\n",
       " {'AC/DC', 'Back in Black', 'The Dark Side of the Moon'})"
      ]
     },
     "execution_count": 12,
     "metadata": {},
     "output_type": "execute_result"
    }
   ],
   "source": [
    "album_set1, album_set2"
   ]
  },
  {
   "cell_type": "code",
   "execution_count": 13,
   "id": "99344823-2b00-439f-a022-17d70c171746",
   "metadata": {},
   "outputs": [
    {
     "data": {
      "text/plain": [
       "{'AC/DC', 'Back in Black'}"
      ]
     },
     "execution_count": 13,
     "metadata": {},
     "output_type": "execute_result"
    }
   ],
   "source": [
    "#intersection of sets\n",
    "intersection = album_set1 & album_set2\n",
    "intersection"
   ]
  },
  {
   "cell_type": "code",
   "execution_count": 14,
   "id": "0c2aecdd-6251-4fcd-974d-6a874fc130e1",
   "metadata": {},
   "outputs": [
    {
     "data": {
      "text/plain": [
       "{'Thriller'}"
      ]
     },
     "execution_count": 14,
     "metadata": {},
     "output_type": "execute_result"
    }
   ],
   "source": [
    "# Finding the difference\n",
    "\n",
    "album_set1.difference(album_set2) "
   ]
  },
  {
   "cell_type": "code",
   "execution_count": 15,
   "id": "3047657a-0774-4d93-9b74-3ff95782a1ec",
   "metadata": {},
   "outputs": [
    {
     "data": {
      "text/plain": [
       "{'The Dark Side of the Moon'}"
      ]
     },
     "execution_count": 15,
     "metadata": {},
     "output_type": "execute_result"
    }
   ],
   "source": [
    "album_set2.difference(album_set1) "
   ]
  },
  {
   "cell_type": "code",
   "execution_count": 16,
   "id": "ae79f144-6174-4cb5-a899-f7410480c78b",
   "metadata": {},
   "outputs": [
    {
     "data": {
      "text/plain": [
       "{'AC/DC', 'Back in Black', 'The Dark Side of the Moon', 'Thriller'}"
      ]
     },
     "execution_count": 16,
     "metadata": {},
     "output_type": "execute_result"
    }
   ],
   "source": [
    "#union of the sets\n",
    "album_set1.union(album_set2) "
   ]
  },
  {
   "cell_type": "code",
   "execution_count": 18,
   "id": "d9d82423-2c0e-4d0b-a9dc-b5f98be53cb2",
   "metadata": {},
   "outputs": [
    {
     "data": {
      "text/plain": [
       "False"
      ]
     },
     "execution_count": 18,
     "metadata": {},
     "output_type": "execute_result"
    }
   ],
   "source": [
    "#subset and superset\n",
    "set(album_set2).issubset(album_set1) "
   ]
  },
  {
   "cell_type": "code",
   "execution_count": 19,
   "id": "3031a0d0-5877-47f1-8dbb-8a58402fe2c6",
   "metadata": {},
   "outputs": [
    {
     "data": {
      "text/plain": [
       "False"
      ]
     },
     "execution_count": 19,
     "metadata": {},
     "output_type": "execute_result"
    }
   ],
   "source": [
    "set(album_set1).issuperset(album_set2) "
   ]
  },
  {
   "cell_type": "code",
   "execution_count": 17,
   "id": "b2550d58-3a99-473a-9503-9d4a24dff9a2",
   "metadata": {},
   "outputs": [
    {
     "name": "stdout",
     "output_type": "stream",
     "text": [
      "the sum of A is: 6\n",
      "the sum of B is: 3\n"
     ]
    }
   ],
   "source": [
    "A = [1, 2, 2, 1]  \n",
    "B = set([1, 2, 2, 1])\n",
    "print(\"the sum of A is:\", sum(A))\n",
    "print(\"the sum of B is:\", sum(B))"
   ]
  },
  {
   "cell_type": "code",
   "execution_count": null,
   "id": "cedab328-358d-4a7b-9262-af9dc1aa8a98",
   "metadata": {},
   "outputs": [],
   "source": []
  }
 ],
 "metadata": {
  "kernelspec": {
   "display_name": "Python 3 (ipykernel)",
   "language": "python",
   "name": "python3"
  },
  "language_info": {
   "codemirror_mode": {
    "name": "ipython",
    "version": 3
   },
   "file_extension": ".py",
   "mimetype": "text/x-python",
   "name": "python",
   "nbconvert_exporter": "python",
   "pygments_lexer": "ipython3",
   "version": "3.12.9"
  }
 },
 "nbformat": 4,
 "nbformat_minor": 5
}
