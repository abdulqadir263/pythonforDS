{
 "cells": [
  {
   "cell_type": "markdown",
   "id": "f35d559f-04d8-4eed-9f8b-b3ab2ce7278e",
   "metadata": {},
   "source": [
    "# Working with Numpy in Python"
   ]
  },
  {
   "cell_type": "code",
   "execution_count": 2,
   "id": "eaf6399b-2f78-4113-94b3-9618a248a899",
   "metadata": {},
   "outputs": [],
   "source": [
    "#importing numpy\n",
    "import numpy as np"
   ]
  },
  {
   "cell_type": "markdown",
   "id": "2af9c314-49f3-4354-aa1d-30d950073028",
   "metadata": {},
   "source": [
    "## Simple Numpy Operations"
   ]
  },
  {
   "cell_type": "code",
   "execution_count": 3,
   "id": "6306d2d9-64e3-40c6-9259-c8e2b302eb60",
   "metadata": {},
   "outputs": [
    {
     "name": "stdout",
     "output_type": "stream",
     "text": [
      "[12 23 34 45 56 67 78 89 90]\n"
     ]
    }
   ],
   "source": [
    "list1 = [12, 23, 34, 45, 56, 67, 78, 89, 90]\n",
    "np_array = np.array(list1)\n",
    "print(np_array)"
   ]
  },
  {
   "cell_type": "code",
   "execution_count": 4,
   "id": "559f8a25-60a8-49c2-b7f1-941ae4c2a01d",
   "metadata": {},
   "outputs": [
    {
     "name": "stdout",
     "output_type": "stream",
     "text": [
      "<class 'numpy.ndarray'>\n"
     ]
    }
   ],
   "source": [
    "print(type(np_array))"
   ]
  },
  {
   "cell_type": "code",
   "execution_count": 5,
   "id": "ce344c34-580e-4580-b9b4-1ea3567d6ab8",
   "metadata": {},
   "outputs": [
    {
     "name": "stdout",
     "output_type": "stream",
     "text": [
      "9\n"
     ]
    }
   ],
   "source": [
    "print(np_array.size)"
   ]
  },
  {
   "cell_type": "code",
   "execution_count": 6,
   "id": "4d327b44-4c9c-4a45-be44-83a581a0b545",
   "metadata": {},
   "outputs": [
    {
     "name": "stdout",
     "output_type": "stream",
     "text": [
      "1\n"
     ]
    }
   ],
   "source": [
    "print(np_array.ndim)"
   ]
  },
  {
   "cell_type": "code",
   "execution_count": 7,
   "id": "857a8202-88dd-490b-b781-5549d12c88ab",
   "metadata": {},
   "outputs": [
    {
     "name": "stdout",
     "output_type": "stream",
     "text": [
      "(9,)\n"
     ]
    }
   ],
   "source": [
    "print(np_array.shape)"
   ]
  },
  {
   "cell_type": "code",
   "execution_count": 8,
   "id": "a7dafc6a-222f-407a-93fc-138b7d8e5d53",
   "metadata": {},
   "outputs": [],
   "source": [
    "np_array[0] = 15\n",
    "np_array[1] = 25\n",
    "np_array[2] = 35"
   ]
  },
  {
   "cell_type": "code",
   "execution_count": 9,
   "id": "7ae782e8-de1a-4f4e-bec6-d1c15a0e8165",
   "metadata": {},
   "outputs": [
    {
     "name": "stdout",
     "output_type": "stream",
     "text": [
      "[15 25 35 45 56 67 78 89 90]\n"
     ]
    }
   ],
   "source": [
    "print(np_array)"
   ]
  },
  {
   "cell_type": "markdown",
   "id": "4ed2e420-c14c-4732-8b4d-8ac24f3f313d",
   "metadata": {},
   "source": [
    "## Slicing of Arrays"
   ]
  },
  {
   "cell_type": "code",
   "execution_count": 10,
   "id": "e61b84b7-b241-4b26-b526-de62e32c3864",
   "metadata": {},
   "outputs": [
    {
     "name": "stdout",
     "output_type": "stream",
     "text": [
      "[25 35 45 56 67]\n"
     ]
    }
   ],
   "source": [
    "#2nd to 6th element\n",
    "sliced_array = np_array[1:6]\n",
    "print(sliced_array)"
   ]
  },
  {
   "cell_type": "code",
   "execution_count": 11,
   "id": "91fb7943-b656-49b4-b18c-fc5d8a540448",
   "metadata": {},
   "outputs": [
    {
     "name": "stdout",
     "output_type": "stream",
     "text": [
      "[15 25 35 45 56 67 78 89]\n"
     ]
    }
   ],
   "source": [
    "#negative indexing\n",
    "print(np_array[:-1])"
   ]
  },
  {
   "cell_type": "markdown",
   "id": "fb627b28-ee66-4555-9a4e-5f7836d832c8",
   "metadata": {},
   "source": [
    "## Vector Operations"
   ]
  },
  {
   "cell_type": "code",
   "execution_count": 12,
   "id": "7536dbc8-b54b-4b58-b29a-4b00649faa05",
   "metadata": {},
   "outputs": [
    {
     "name": "stdout",
     "output_type": "stream",
     "text": [
      "[ 8  6 -2  2]\n"
     ]
    }
   ],
   "source": [
    "#addition of elements\n",
    "a = np.array([6, 1, 7, -3])\n",
    "b = np.array([2, 5, -9, 5])\n",
    "c = a + b\n",
    "print(c)"
   ]
  },
  {
   "cell_type": "code",
   "execution_count": 19,
   "id": "128dbf11-468b-4ae8-b77c-ae88f4d149f5",
   "metadata": {},
   "outputs": [
    {
     "name": "stdout",
     "output_type": "stream",
     "text": [
      "[13  8 14  4]\n"
     ]
    }
   ],
   "source": [
    "f = a + 7\n",
    "print(f)"
   ]
  },
  {
   "cell_type": "code",
   "execution_count": 20,
   "id": "7be7b157-7cf4-4725-a426-e9d137a52480",
   "metadata": {},
   "outputs": [
    {
     "name": "stdout",
     "output_type": "stream",
     "text": [
      "[ 2.1  9.1 49.7 32.2]\n"
     ]
    }
   ],
   "source": [
    "#multiplication with objects\n",
    "d = np.array([3, 13, 71, 46])\n",
    "e = d * 0.7\n",
    "print(e)"
   ]
  },
  {
   "cell_type": "code",
   "execution_count": 21,
   "id": "1729f5fd-7f24-4d3a-bdc8-8560dc1ca925",
   "metadata": {},
   "outputs": [
    {
     "name": "stdout",
     "output_type": "stream",
     "text": [
      "-61\n"
     ]
    }
   ],
   "source": [
    "#dot product\n",
    "print(np.dot(a,  b))"
   ]
  },
  {
   "cell_type": "markdown",
   "id": "9a76a2d0-e31f-4cbf-bce8-d4eb47ffb674",
   "metadata": {},
   "source": [
    "## Universal Numpy Functions"
   ]
  },
  {
   "cell_type": "code",
   "execution_count": 27,
   "id": "0c2239d7-d396-4696-aad5-25120ebc61e5",
   "metadata": {},
   "outputs": [
    {
     "name": "stdout",
     "output_type": "stream",
     "text": [
      "42.2\n"
     ]
    }
   ],
   "source": [
    "#finding mean of array\n",
    "arr1 = np.array([23, 45, 55, 11, 77])\n",
    "print(arr1.mean())"
   ]
  },
  {
   "cell_type": "code",
   "execution_count": 33,
   "id": "1c4e70e3-f1eb-4aad-8557-93e25b86cebb",
   "metadata": {},
   "outputs": [
    {
     "name": "stdout",
     "output_type": "stream",
     "text": [
      "77\n"
     ]
    }
   ],
   "source": [
    "#finding max. value\n",
    "print(arr1.max())"
   ]
  },
  {
   "cell_type": "code",
   "execution_count": 34,
   "id": "c8a2e7eb-3fa4-4a66-833f-61ac97f5ed24",
   "metadata": {},
   "outputs": [
    {
     "name": "stdout",
     "output_type": "stream",
     "text": [
      "23.344378338263798\n"
     ]
    }
   ],
   "source": [
    "#finding std. deviation\n",
    "print(arr1.std())"
   ]
  },
  {
   "cell_type": "code",
   "execution_count": 26,
   "id": "05f09e49-ebea-44f9-8a4b-911f94d52565",
   "metadata": {},
   "outputs": [
    {
     "name": "stdout",
     "output_type": "stream",
     "text": [
      "42.2\n"
     ]
    }
   ],
   "source": [
    "print(arr1.mean())"
   ]
  },
  {
   "cell_type": "markdown",
   "id": "dd5e75cd-763b-40f9-908f-ac41338c161a",
   "metadata": {},
   "source": [
    "# 2-Dimensional Arrays and their Operations in Numpy"
   ]
  },
  {
   "cell_type": "code",
   "execution_count": 36,
   "id": "be49dcbc-a065-46bb-90f9-df6fd9148c9d",
   "metadata": {},
   "outputs": [
    {
     "name": "stdout",
     "output_type": "stream",
     "text": [
      "[[11, 12, 13], [21, 22, 23], [31, 32, 33]]\n"
     ]
    }
   ],
   "source": [
    "a = [[11, 12, 13], [21, 22, 23], [31, 32, 33]]\n",
    "print(a)"
   ]
  },
  {
   "cell_type": "code",
   "execution_count": 38,
   "id": "a378271c-7861-4342-998f-819c39866543",
   "metadata": {},
   "outputs": [
    {
     "data": {
      "text/plain": [
       "array([[11, 12, 13],\n",
       "       [21, 22, 23],\n",
       "       [31, 32, 33]])"
      ]
     },
     "execution_count": 38,
     "metadata": {},
     "output_type": "execute_result"
    }
   ],
   "source": [
    "A = np.array(a)\n",
    "A"
   ]
  },
  {
   "cell_type": "code",
   "execution_count": 39,
   "id": "1dc7f259-ab6d-4916-b33f-514f0987b3e4",
   "metadata": {},
   "outputs": [
    {
     "name": "stdout",
     "output_type": "stream",
     "text": [
      "2\n"
     ]
    }
   ],
   "source": [
    "print(A.ndim)"
   ]
  },
  {
   "cell_type": "code",
   "execution_count": 40,
   "id": "bd240732-ded3-4876-a1b5-b56624e4f8d9",
   "metadata": {},
   "outputs": [
    {
     "name": "stdout",
     "output_type": "stream",
     "text": [
      "9\n"
     ]
    }
   ],
   "source": [
    "print(A.size)"
   ]
  },
  {
   "cell_type": "code",
   "execution_count": 41,
   "id": "61049b23-6fa1-4b7d-bd97-18fb5caeef56",
   "metadata": {},
   "outputs": [
    {
     "name": "stdout",
     "output_type": "stream",
     "text": [
      "(3, 3)\n"
     ]
    }
   ],
   "source": [
    "print(A.shape)"
   ]
  },
  {
   "cell_type": "code",
   "execution_count": 42,
   "id": "251a86fb-8c9d-448b-8775-477e648ab4f7",
   "metadata": {},
   "outputs": [
    {
     "data": {
      "text/plain": [
       "22"
      ]
     },
     "execution_count": 42,
     "metadata": {},
     "output_type": "execute_result"
    }
   ],
   "source": [
    "#Accessing Elements\n",
    "A[1,1]"
   ]
  },
  {
   "cell_type": "code",
   "execution_count": 43,
   "id": "92f1a77c-21ea-40a7-9971-fb876989988b",
   "metadata": {},
   "outputs": [
    {
     "data": {
      "text/plain": [
       "13"
      ]
     },
     "execution_count": 43,
     "metadata": {},
     "output_type": "execute_result"
    }
   ],
   "source": [
    "A[0,2]"
   ]
  },
  {
   "cell_type": "code",
   "execution_count": 44,
   "id": "37a65d7f-7ce5-4c18-88cf-7309904ec7c9",
   "metadata": {},
   "outputs": [
    {
     "data": {
      "text/plain": [
       "33"
      ]
     },
     "execution_count": 44,
     "metadata": {},
     "output_type": "execute_result"
    }
   ],
   "source": [
    "A[2,2]"
   ]
  },
  {
   "cell_type": "code",
   "execution_count": 47,
   "id": "9140cba6-1d32-445b-a183-db182e940197",
   "metadata": {},
   "outputs": [
    {
     "name": "stdout",
     "output_type": "stream",
     "text": [
      "[22 23]\n"
     ]
    }
   ],
   "source": [
    "# Access the element on the second row and second and third columns\n",
    "\n",
    "print(A[1][1:3])"
   ]
  },
  {
   "cell_type": "code",
   "execution_count": 48,
   "id": "eaa0f05b-dc56-4809-a45d-7044eaf6ff14",
   "metadata": {},
   "outputs": [
    {
     "name": "stdout",
     "output_type": "stream",
     "text": [
      "[[1 2 3]\n",
      " [3 5 7]]\n"
     ]
    }
   ],
   "source": [
    "X = np.array([[1, 2, 3], [3, 5, 7]])\n",
    "print(X)"
   ]
  },
  {
   "cell_type": "code",
   "execution_count": 49,
   "id": "e5c017b4-f576-4427-95bb-c6972dbebaf6",
   "metadata": {},
   "outputs": [
    {
     "name": "stdout",
     "output_type": "stream",
     "text": [
      "[[9 2 0]\n",
      " [2 4 6]]\n"
     ]
    }
   ],
   "source": [
    "Y = np.array([[9, 2, 0], [2, 4, 6]])\n",
    "print(Y)"
   ]
  },
  {
   "cell_type": "code",
   "execution_count": 50,
   "id": "fe07522b-1246-4d71-a3f0-466686be7dd3",
   "metadata": {},
   "outputs": [
    {
     "name": "stdout",
     "output_type": "stream",
     "text": [
      "[[10  4  3]\n",
      " [ 5  9 13]]\n"
     ]
    }
   ],
   "source": [
    "Z = X + Y\n",
    "print(Z)"
   ]
  },
  {
   "cell_type": "markdown",
   "id": "e72de296-0981-43b2-836d-183f9d3e9f60",
   "metadata": {},
   "source": [
    "Scalar Multilpication is same as 1-d array"
   ]
  },
  {
   "cell_type": "code",
   "execution_count": 53,
   "id": "e99a34bd-2917-4383-8edb-2e17071f0b4d",
   "metadata": {},
   "outputs": [
    {
     "name": "stdout",
     "output_type": "stream",
     "text": [
      "[[0 1 1]\n",
      " [1 0 1]]\n"
     ]
    }
   ],
   "source": [
    "#dot product\n",
    "P = np.array([[0, 1, 1], [1, 0, 1]])\n",
    "print(P)"
   ]
  },
  {
   "cell_type": "code",
   "execution_count": 54,
   "id": "3e5b9534-b912-456f-84be-9ea3663cff3a",
   "metadata": {},
   "outputs": [
    {
     "name": "stdout",
     "output_type": "stream",
     "text": [
      "[[ 1  1]\n",
      " [ 1  1]\n",
      " [-1  1]]\n"
     ]
    }
   ],
   "source": [
    "Q = np.array([[1, 1], [1, 1], [-1, 1]])\n",
    "print(Q)"
   ]
  },
  {
   "cell_type": "code",
   "execution_count": 55,
   "id": "e6a7374e-6eed-4052-9d3b-694d42c16b95",
   "metadata": {},
   "outputs": [
    {
     "name": "stdout",
     "output_type": "stream",
     "text": [
      "[[0 2]\n",
      " [0 2]]\n"
     ]
    }
   ],
   "source": [
    "R = np.dot(P, Q)\n",
    "print(R)"
   ]
  },
  {
   "cell_type": "code",
   "execution_count": 57,
   "id": "9268a83e-4dc4-4316-8f23-e29f7f8a45d7",
   "metadata": {},
   "outputs": [
    {
     "name": "stdout",
     "output_type": "stream",
     "text": [
      "[[0 1]\n",
      " [1 0]\n",
      " [1 1]]\n"
     ]
    }
   ],
   "source": [
    "#transpose of matrix e.g: P\n",
    "print(P.T)"
   ]
  },
  {
   "cell_type": "code",
   "execution_count": null,
   "id": "8027d6a3-0dc6-4bdf-9168-d14ffb582e3a",
   "metadata": {},
   "outputs": [],
   "source": []
  }
 ],
 "metadata": {
  "kernelspec": {
   "display_name": "Python 3 (ipykernel)",
   "language": "python",
   "name": "python3"
  },
  "language_info": {
   "codemirror_mode": {
    "name": "ipython",
    "version": 3
   },
   "file_extension": ".py",
   "mimetype": "text/x-python",
   "name": "python",
   "nbconvert_exporter": "python",
   "pygments_lexer": "ipython3",
   "version": "3.12.9"
  }
 },
 "nbformat": 4,
 "nbformat_minor": 5
}
