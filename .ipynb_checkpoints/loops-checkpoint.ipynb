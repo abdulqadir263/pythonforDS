{
 "cells": [
  {
   "cell_type": "markdown",
   "id": "8d07bc7a-ff0f-4be0-94e2-c7608af1f33b",
   "metadata": {},
   "source": [
    "# Loops in Python"
   ]
  },
  {
   "cell_type": "markdown",
   "id": "c7c3e4b6-0d5b-4a67-86cd-c23648a84229",
   "metadata": {},
   "source": [
    "## Range Function"
   ]
  },
  {
   "cell_type": "code",
   "execution_count": 1,
   "id": "34f62996-f1d3-46e3-8ffd-5418f30f0e6d",
   "metadata": {},
   "outputs": [
    {
     "name": "stdout",
     "output_type": "stream",
     "text": [
      "[0, 1, 2, 3, 4]\n"
     ]
    }
   ],
   "source": [
    "print(list(range(5)))"
   ]
  },
  {
   "cell_type": "code",
   "execution_count": 2,
   "id": "92271f0a-58f7-4ef3-bf5b-4a46895bc459",
   "metadata": {},
   "outputs": [
    {
     "name": "stdout",
     "output_type": "stream",
     "text": [
      "[63, 64, 65, 66, 67, 68]\n"
     ]
    }
   ],
   "source": [
    "print(list(range(63, 69)))"
   ]
  },
  {
   "cell_type": "code",
   "execution_count": 3,
   "id": "73a4f0aa-d0df-475f-b84f-9d9d0ed3a09a",
   "metadata": {},
   "outputs": [
    {
     "name": "stdout",
     "output_type": "stream",
     "text": [
      "range(0, 10)\n"
     ]
    }
   ],
   "source": [
    "#list is used because in python-3 \n",
    "print((range(10)))"
   ]
  },
  {
   "cell_type": "markdown",
   "id": "1008e29d-1af6-4476-9478-7f25284f82ce",
   "metadata": {},
   "source": [
    "## For Loop"
   ]
  },
  {
   "cell_type": "code",
   "execution_count": 4,
   "id": "5f24ccf0-34f5-41f3-9278-ce0dd50ac914",
   "metadata": {},
   "outputs": [
    {
     "name": "stdout",
     "output_type": "stream",
     "text": [
      "0\n",
      "1\n",
      "2\n",
      "3\n",
      "4\n",
      "5\n",
      "6\n",
      "7\n",
      "8\n",
      "9\n"
     ]
    }
   ],
   "source": [
    "#for loop with range function\n",
    "for i in range(10):\n",
    "    print(i)"
   ]
  },
  {
   "cell_type": "code",
   "execution_count": 7,
   "id": "8978d3cd-005a-4333-a8e6-01b8abbfe5a5",
   "metadata": {},
   "outputs": [
    {
     "name": "stdout",
     "output_type": "stream",
     "text": [
      "before color 0 is red\n",
      "after color 0 is black\n",
      "before color 1 is yellow\n",
      "after color 1 is black\n",
      "before color 2 is green\n",
      "after color 2 is black\n",
      "before color 3 is purple\n",
      "after color 3 is black\n",
      "before color 4 is blue\n",
      "after color 4 is black\n"
     ]
    }
   ],
   "source": [
    "# Use for loop to change the elements in list\n",
    "\n",
    "colors = ['red', 'yellow', 'green', 'purple', 'blue']\n",
    "for i in range(0,5):\n",
    "    print('before color', i, 'is', colors[i])\n",
    "    colors[i] = 'black'\n",
    "    print('after color', i, 'is', colors[i])\n",
    "    "
   ]
  },
  {
   "cell_type": "code",
   "execution_count": 10,
   "id": "81dbc670-6f6e-41f3-ab11-8878f9758c1d",
   "metadata": {},
   "outputs": [
    {
     "name": "stdout",
     "output_type": "stream",
     "text": [
      "0 red\n",
      "1 yellow\n",
      "2 green\n",
      "3 purple\n",
      "4 blue\n"
     ]
    }
   ],
   "source": [
    "#enumerate function\n",
    "colors = ['red', 'yellow', 'green', 'purple', 'blue']\n",
    "for index, color in enumerate(colors):\n",
    "    print(index, color)"
   ]
  },
  {
   "cell_type": "code",
   "execution_count": 2,
   "id": "5d2a6229-7803-41fa-9594-1f25de01e202",
   "metadata": {},
   "outputs": [
    {
     "name": "stdout",
     "output_type": "stream",
     "text": [
      "-5\n",
      "-4\n",
      "-3\n",
      "-2\n",
      "-1\n",
      "0\n",
      "1\n",
      "2\n",
      "3\n",
      "4\n"
     ]
    }
   ],
   "source": [
    "#practice questions\n",
    "for i in range(-5, 5):\n",
    "    print(i)"
   ]
  },
  {
   "cell_type": "code",
   "execution_count": 3,
   "id": "61547da7-09ce-4136-9f41-c263d81ea2d8",
   "metadata": {},
   "outputs": [
    {
     "name": "stdout",
     "output_type": "stream",
     "text": [
      "rock\n",
      "R&B\n",
      "Soundtrack\n",
      "R&B\n",
      "soul\n",
      "pop\n"
     ]
    }
   ],
   "source": [
    "#practice questions\n",
    "Genres=[ 'rock', 'R&B', 'Soundtrack', 'R&B', 'soul', 'pop']\n",
    "for genre in Genres:\n",
    "    print(genre)"
   ]
  },
  {
   "cell_type": "markdown",
   "id": "0049ce7f-2ad9-4962-b9b6-624b632ac952",
   "metadata": {},
   "source": [
    "## While Loop"
   ]
  },
  {
   "cell_type": "code",
   "execution_count": 1,
   "id": "4b30ab7c-9981-4e95-b082-93844a999dec",
   "metadata": {},
   "outputs": [
    {
     "name": "stdout",
     "output_type": "stream",
     "text": [
      "1982\n",
      "1980\n",
      "1973\n",
      "2000\n",
      "2004\n",
      "It took  5 repetitions to get out of loop.\n"
     ]
    }
   ],
   "source": [
    "# While Loop Example\n",
    "dates = [1982, 1980, 1973, 2000, 2004, 2009, 2015]\n",
    "\n",
    "i = 0\n",
    "year = dates[0]\n",
    "\n",
    "while(year != 2009):    \n",
    "    print(year)\n",
    "    i = i + 1\n",
    "    year = dates[i]\n",
    "    \n",
    "\n",
    "print(\"It took \", i ,\"repetitions to get out of loop.\")"
   ]
  },
  {
   "cell_type": "code",
   "execution_count": 18,
   "id": "6d668130-4c58-4b87-944c-10f068a6e990",
   "metadata": {},
   "outputs": [
    {
     "name": "stdout",
     "output_type": "stream",
     "text": [
      "Ali\n",
      "Ahmad\n",
      "Abid\n",
      "John\n",
      "Virat\n",
      "It took  5 repetitions to get out of loop.\n"
     ]
    }
   ],
   "source": [
    "#examples\n",
    "students = ['Ali', 'Ahmad', 'Abid', 'John', 'Virat', 'Rohit']\n",
    "\n",
    "n = 0\n",
    "st = students[0]\n",
    "\n",
    "while(st != 'Rohit'):\n",
    "    print(st)\n",
    "    n = n+1\n",
    "    st = students[n]\n",
    "\n",
    "print(\"It took \", n ,\"repetitions to get out of loop.\")    "
   ]
  },
  {
   "cell_type": "code",
   "execution_count": 6,
   "id": "57522fdc-93db-45e4-a599-45cb64b0cb06",
   "metadata": {},
   "outputs": [
    {
     "name": "stdout",
     "output_type": "stream",
     "text": [
      "10\n",
      "10\n",
      "9.5\n",
      "10\n",
      "8\n",
      "7.5\n"
     ]
    }
   ],
   "source": [
    "#practice questions\n",
    "PlayListRatings = [10, 9.5, 10, 8, 7.5, 5, 10, 10]\n",
    "i = 0\n",
    "score = PlayListRatings[0]\n",
    "\n",
    "while(i < len(PlayListRatings) and score >= 6):\n",
    "    print(score)\n",
    "    # i = i+1\n",
    "    score = PlayListRatings[i]\n",
    "    i = i+1"
   ]
  },
  {
   "cell_type": "code",
   "execution_count": null,
   "id": "38f3deaf-ec8a-4651-aae9-2e4f94df42c9",
   "metadata": {},
   "outputs": [],
   "source": []
  }
 ],
 "metadata": {
  "kernelspec": {
   "display_name": "Python 3 (ipykernel)",
   "language": "python",
   "name": "python3"
  },
  "language_info": {
   "codemirror_mode": {
    "name": "ipython",
    "version": 3
   },
   "file_extension": ".py",
   "mimetype": "text/x-python",
   "name": "python",
   "nbconvert_exporter": "python",
   "pygments_lexer": "ipython3",
   "version": "3.12.9"
  }
 },
 "nbformat": 4,
 "nbformat_minor": 5
}
