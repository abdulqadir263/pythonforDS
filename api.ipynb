{
 "cells": [
  {
   "cell_type": "markdown",
   "id": "32338f46-b847-40a7-805d-1ee760e53376",
   "metadata": {},
   "source": [
    "# Working with APIs in Pyhton"
   ]
  },
  {
   "cell_type": "markdown",
   "id": "8c4ba918-8921-4b39-8ac8-b9980abf9e63",
   "metadata": {},
   "source": [
    "PyCoinGecko (CoinGecko API)\n",
    "CoinGecko is a cryptocurrency data provider. \n",
    "The PyCoinGecko library is a Python wrapper for their API."
   ]
  },
  {
   "cell_type": "code",
   "execution_count": 2,
   "id": "1714b424-a1c4-4983-afb0-7cc6dcfc8c6c",
   "metadata": {},
   "outputs": [],
   "source": [
    "from pycoingecko import CoinGeckoAPI"
   ]
  },
  {
   "cell_type": "code",
   "execution_count": 3,
   "id": "819905ff-bf04-406a-b827-8958001d6936",
   "metadata": {},
   "outputs": [],
   "source": [
    "cg = CoinGeckoAPI()"
   ]
  },
  {
   "cell_type": "code",
   "execution_count": 8,
   "id": "12fafefd-6618-449e-b8bc-55cf9e3e0834",
   "metadata": {},
   "outputs": [],
   "source": [
    "bitcoindata = cg.get_coin_market_chart_by_id(id = \"bitcoin\", vs_currency = \"usd\", days = 7)"
   ]
  },
  {
   "cell_type": "code",
   "execution_count": 9,
   "id": "65fecd0d-7037-4406-9b46-c58c60f2f1e4",
   "metadata": {},
   "outputs": [],
   "source": [
    "import pandas as pd"
   ]
  },
  {
   "cell_type": "code",
   "execution_count": 10,
   "id": "29b0b5a7-20b1-4d18-9850-e5bd21fd2a68",
   "metadata": {},
   "outputs": [],
   "source": [
    "df = pd.DataFrame(bitcoindata[\"prices\"], columns = ['timestamp', 'price'])\n",
    "df['date'] = pd.to_datetime(df['timestamp'], unit='ms')"
   ]
  },
  {
   "cell_type": "code",
   "execution_count": 11,
   "id": "d32340c2-6fa6-4fa9-8da6-45ef362100ea",
   "metadata": {},
   "outputs": [
    {
     "data": {
      "text/html": [
       "<div>\n",
       "<style scoped>\n",
       "    .dataframe tbody tr th:only-of-type {\n",
       "        vertical-align: middle;\n",
       "    }\n",
       "\n",
       "    .dataframe tbody tr th {\n",
       "        vertical-align: top;\n",
       "    }\n",
       "\n",
       "    .dataframe thead th {\n",
       "        text-align: right;\n",
       "    }\n",
       "</style>\n",
       "<table border=\"1\" class=\"dataframe\">\n",
       "  <thead>\n",
       "    <tr style=\"text-align: right;\">\n",
       "      <th></th>\n",
       "      <th>timestamp</th>\n",
       "      <th>price</th>\n",
       "      <th>date</th>\n",
       "    </tr>\n",
       "  </thead>\n",
       "  <tbody>\n",
       "    <tr>\n",
       "      <th>0</th>\n",
       "      <td>1747242389909</td>\n",
       "      <td>103410.522593</td>\n",
       "      <td>2025-05-14 17:06:29.909</td>\n",
       "    </tr>\n",
       "    <tr>\n",
       "      <th>1</th>\n",
       "      <td>1747246297277</td>\n",
       "      <td>103236.433831</td>\n",
       "      <td>2025-05-14 18:11:37.277</td>\n",
       "    </tr>\n",
       "    <tr>\n",
       "      <th>2</th>\n",
       "      <td>1747249481943</td>\n",
       "      <td>103360.773155</td>\n",
       "      <td>2025-05-14 19:04:41.943</td>\n",
       "    </tr>\n",
       "    <tr>\n",
       "      <th>3</th>\n",
       "      <td>1747253395331</td>\n",
       "      <td>103462.917929</td>\n",
       "      <td>2025-05-14 20:09:55.331</td>\n",
       "    </tr>\n",
       "    <tr>\n",
       "      <th>4</th>\n",
       "      <td>1747256695158</td>\n",
       "      <td>103541.329914</td>\n",
       "      <td>2025-05-14 21:04:55.158</td>\n",
       "    </tr>\n",
       "    <tr>\n",
       "      <th>...</th>\n",
       "      <td>...</td>\n",
       "      <td>...</td>\n",
       "      <td>...</td>\n",
       "    </tr>\n",
       "    <tr>\n",
       "      <th>164</th>\n",
       "      <td>1747832623359</td>\n",
       "      <td>106597.246634</td>\n",
       "      <td>2025-05-21 13:03:43.359</td>\n",
       "    </tr>\n",
       "    <tr>\n",
       "      <th>165</th>\n",
       "      <td>1747836205757</td>\n",
       "      <td>107167.011550</td>\n",
       "      <td>2025-05-21 14:03:25.757</td>\n",
       "    </tr>\n",
       "    <tr>\n",
       "      <th>166</th>\n",
       "      <td>1747839755411</td>\n",
       "      <td>108191.045746</td>\n",
       "      <td>2025-05-21 15:02:35.411</td>\n",
       "    </tr>\n",
       "    <tr>\n",
       "      <th>167</th>\n",
       "      <td>1747843257775</td>\n",
       "      <td>108946.199459</td>\n",
       "      <td>2025-05-21 16:00:57.775</td>\n",
       "    </tr>\n",
       "    <tr>\n",
       "      <th>168</th>\n",
       "      <td>1747844511000</td>\n",
       "      <td>109039.324831</td>\n",
       "      <td>2025-05-21 16:21:51.000</td>\n",
       "    </tr>\n",
       "  </tbody>\n",
       "</table>\n",
       "<p>169 rows × 3 columns</p>\n",
       "</div>"
      ],
      "text/plain": [
       "         timestamp          price                    date\n",
       "0    1747242389909  103410.522593 2025-05-14 17:06:29.909\n",
       "1    1747246297277  103236.433831 2025-05-14 18:11:37.277\n",
       "2    1747249481943  103360.773155 2025-05-14 19:04:41.943\n",
       "3    1747253395331  103462.917929 2025-05-14 20:09:55.331\n",
       "4    1747256695158  103541.329914 2025-05-14 21:04:55.158\n",
       "..             ...            ...                     ...\n",
       "164  1747832623359  106597.246634 2025-05-21 13:03:43.359\n",
       "165  1747836205757  107167.011550 2025-05-21 14:03:25.757\n",
       "166  1747839755411  108191.045746 2025-05-21 15:02:35.411\n",
       "167  1747843257775  108946.199459 2025-05-21 16:00:57.775\n",
       "168  1747844511000  109039.324831 2025-05-21 16:21:51.000\n",
       "\n",
       "[169 rows x 3 columns]"
      ]
     },
     "execution_count": 11,
     "metadata": {},
     "output_type": "execute_result"
    }
   ],
   "source": [
    "df"
   ]
  },
  {
   "cell_type": "code",
   "execution_count": null,
   "id": "1d8835be-5283-447d-97eb-657f1a4f395a",
   "metadata": {},
   "outputs": [],
   "source": []
  }
 ],
 "metadata": {
  "kernelspec": {
   "display_name": "Python 3 (ipykernel)",
   "language": "python",
   "name": "python3"
  },
  "language_info": {
   "codemirror_mode": {
    "name": "ipython",
    "version": 3
   },
   "file_extension": ".py",
   "mimetype": "text/x-python",
   "name": "python",
   "nbconvert_exporter": "python",
   "pygments_lexer": "ipython3",
   "version": "3.12.9"
  }
 },
 "nbformat": 4,
 "nbformat_minor": 5
}
