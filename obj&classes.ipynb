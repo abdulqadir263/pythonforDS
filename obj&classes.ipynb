{
 "cells": [
  {
   "cell_type": "markdown",
   "id": "dc031cbf-226a-4686-99d6-e95399ab4412",
   "metadata": {},
   "source": [
    "# Object and Classes in Pyhton"
   ]
  },
  {
   "cell_type": "code",
   "execution_count": 1,
   "id": "7f709899-bb22-42a6-86cc-1251c4584854",
   "metadata": {},
   "outputs": [],
   "source": [
    "# Import the library for visualtization\n",
    "\n",
    "import matplotlib.pyplot as plt\n",
    "%matplotlib inline  "
   ]
  },
  {
   "cell_type": "code",
   "execution_count": 2,
   "id": "9b1e6f42-5c1a-4238-bfd1-97b40120d6de",
   "metadata": {},
   "outputs": [],
   "source": [
    "# Creating a class Circle\n",
    "\n",
    "class Circle(object):\n",
    "    \n",
    "    # Constructor\n",
    "    def __init__(self, radius=3, color='blue'):\n",
    "        self.radius = radius\n",
    "        self.color = color \n",
    "    \n",
    "    # Method\n",
    "    def add_radius(self, r):\n",
    "        self.radius = self.radius + r\n",
    "        return(self.radius)\n",
    "    \n",
    "    # Method\n",
    "    def drawCircle(self):\n",
    "        plt.gca().add_patch(plt.Circle((0, 0), radius=self.radius, fc=self.color))\n",
    "        plt.axis('scaled')\n",
    "        plt.show()  "
   ]
  },
  {
   "cell_type": "code",
   "execution_count": 3,
   "id": "f79e0e88-3dff-40aa-ab6e-860f24e52e83",
   "metadata": {},
   "outputs": [],
   "source": [
    "# Creating an object RedCircle\n",
    "\n",
    "RedCircle = Circle(10, 'red')"
   ]
  },
  {
   "cell_type": "code",
   "execution_count": 5,
   "id": "09cf0bd4-efa7-4db4-a6aa-b92ebc52149d",
   "metadata": {},
   "outputs": [
    {
     "data": {
      "text/plain": [
       "['__class__',\n",
       " '__delattr__',\n",
       " '__dict__',\n",
       " '__dir__',\n",
       " '__doc__',\n",
       " '__eq__',\n",
       " '__format__',\n",
       " '__ge__',\n",
       " '__getattribute__',\n",
       " '__getstate__',\n",
       " '__gt__',\n",
       " '__hash__',\n",
       " '__init__',\n",
       " '__init_subclass__',\n",
       " '__le__',\n",
       " '__lt__',\n",
       " '__module__',\n",
       " '__ne__',\n",
       " '__new__',\n",
       " '__reduce__',\n",
       " '__reduce_ex__',\n",
       " '__repr__',\n",
       " '__setattr__',\n",
       " '__sizeof__',\n",
       " '__str__',\n",
       " '__subclasshook__',\n",
       " '__weakref__',\n",
       " 'add_radius',\n",
       " 'color',\n",
       " 'drawCircle',\n",
       " 'radius']"
      ]
     },
     "execution_count": 5,
     "metadata": {},
     "output_type": "execute_result"
    }
   ],
   "source": [
    "# availabe methods\n",
    "dir(RedCircle)"
   ]
  },
  {
   "cell_type": "code",
   "execution_count": 8,
   "id": "2c9e4588-5833-4823-aa61-f55867f2b226",
   "metadata": {},
   "outputs": [
    {
     "data": {
      "text/plain": [
       "10"
      ]
     },
     "execution_count": 8,
     "metadata": {},
     "output_type": "execute_result"
    }
   ],
   "source": [
    "# Printing the object attribute radius\n",
    "\n",
    "RedCircle.radius"
   ]
  },
  {
   "cell_type": "code",
   "execution_count": 9,
   "id": "e850640e-d682-4460-82e1-e3bd75ba7063",
   "metadata": {},
   "outputs": [
    {
     "data": {
      "text/plain": [
       "'red'"
      ]
     },
     "execution_count": 9,
     "metadata": {},
     "output_type": "execute_result"
    }
   ],
   "source": [
    "# Printing the object attribute color\n",
    "\n",
    "RedCircle.color"
   ]
  },
  {
   "cell_type": "code",
   "execution_count": 10,
   "id": "a952d5b5-a87b-4ee7-bfbc-b455f4e91d5e",
   "metadata": {},
   "outputs": [
    {
     "data": {
      "image/png": "[encoded data removed]",
      "text/plain": [
       "<Figure size 640x480 with 1 Axes>"
      ]
     },
     "metadata": {},
     "output_type": "display_data"
    }
   ],
   "source": [
    "# Calling the method drawCircle\n",
    "\n",
    "RedCircle.drawCircle()"
   ]
  },
  {
   "cell_type": "code",
   "execution_count": 11,
   "id": "598452d5-93eb-4db2-9eee-21acbc5a869f",
   "metadata": {},
   "outputs": [
    {
     "name": "stdout",
     "output_type": "stream",
     "text": [
      "Radius of object: 10\n",
      "Radius of object of after applying the method add_radius(2): 12\n",
      "Radius of object of after applying the method add_radius(5): 17\n"
     ]
    }
   ],
   "source": [
    "# Using method to change the object attribute radius\n",
    "\n",
    "print('Radius of object:',RedCircle.radius)\n",
    "RedCircle.add_radius(2)\n",
    "print('Radius of object of after applying the method add_radius(2):',RedCircle.radius)\n",
    "RedCircle.add_radius(5)\n",
    "print('Radius of object of after applying the method add_radius(5):',RedCircle.radius)"
   ]
  },
  {
   "cell_type": "code",
   "execution_count": 12,
   "id": "fb82822f-fed2-4e46-bc7c-6c9f5a6c6a8b",
   "metadata": {},
   "outputs": [],
   "source": [
    "# Creating a blue circle with a given radius\n",
    "\n",
    "BlueCircle = Circle(radius=100)"
   ]
  },
  {
   "cell_type": "code",
   "execution_count": 13,
   "id": "c57456ef-481a-44c2-8a0f-6fb8c63671b2",
   "metadata": {},
   "outputs": [
    {
     "data": {
      "text/plain": [
       "100"
      ]
     },
     "execution_count": 13,
     "metadata": {},
     "output_type": "execute_result"
    }
   ],
   "source": [
    "# Printing the object attribute radius\n",
    "\n",
    "BlueCircle.radius"
   ]
  },
  {
   "cell_type": "code",
   "execution_count": 14,
   "id": "d5ef1f8d-59f3-47ca-b01a-657426b2ddf7",
   "metadata": {},
   "outputs": [
    {
     "data": {
      "text/plain": [
       "'blue'"
      ]
     },
     "execution_count": 14,
     "metadata": {},
     "output_type": "execute_result"
    }
   ],
   "source": [
    "# Printing the object attribute color\n",
    "\n",
    "BlueCircle.color"
   ]
  },
  {
   "cell_type": "code",
   "execution_count": 15,
   "id": "9677e93a-1634-40ae-8b5d-4e5d171d7169",
   "metadata": {},
   "outputs": [
    {
     "data": {
      "image/png": "[encoded data removed]",
      "text/plain": [
       "<Figure size 640x480 with 1 Axes>"
      ]
     },
     "metadata": {},
     "output_type": "display_data"
    }
   ],
   "source": [
    "# Calling the method drawCircle\n",
    "\n",
    "BlueCircle.drawCircle()"
   ]
  },
  {
   "cell_type": "markdown",
   "id": "c85231e1-a9ca-4aae-b1a4-da1a855c073d",
   "metadata": {},
   "source": [
    "## Examples of some classes"
   ]
  },
  {
   "cell_type": "code",
   "execution_count": 19,
   "id": "5c3e5c85-027b-485f-99b8-7cbde41ecbf5",
   "metadata": {},
   "outputs": [],
   "source": [
    "#basic class\n",
    "\n",
    "class Laptop:\n",
    "    company = \"Leneovo\"\n",
    "\n",
    "    def __init__(self, model, price):\n",
    "        self.model = model\n",
    "        self.price = price\n",
    "\n",
    "    def description(self):\n",
    "        return f\"{self.model} is of RS. {self.price}\"\n",
    "\n",
    "    def processor(self, cpu):\n",
    "        return f\"{self.model} has processor: {cpu}\"\n",
    "\n",
    "laptop1 = Laptop(\"T460s\", 25000)\n",
    "laptop2 = Laptop(\"T470s\", 30000)"
   ]
  },
  {
   "cell_type": "code",
   "execution_count": 20,
   "id": "d232e862-7a02-4a32-bd5e-02d78449a8ef",
   "metadata": {},
   "outputs": [
    {
     "data": {
      "text/plain": [
       "'T460s is of RS. 25000'"
      ]
     },
     "execution_count": 20,
     "metadata": {},
     "output_type": "execute_result"
    }
   ],
   "source": [
    "laptop1.description()"
   ]
  },
  {
   "cell_type": "code",
   "execution_count": 22,
   "id": "c3938c2f-ce4b-4bff-bc3c-27ea75b73c5e",
   "metadata": {},
   "outputs": [
    {
     "data": {
      "text/plain": [
       "'T470s has processor: core i5'"
      ]
     },
     "execution_count": 22,
     "metadata": {},
     "output_type": "execute_result"
    }
   ],
   "source": [
    "laptop2.processor(\"core i5\")"
   ]
  },
  {
   "cell_type": "code",
   "execution_count": 27,
   "id": "c6386234-ce93-4559-9fff-3d2e83e1de68",
   "metadata": {},
   "outputs": [],
   "source": [
    "#bank account example\n",
    "\n",
    "class BankAccount:\n",
    "    def __init__(self, acc_holder, balance = 0):\n",
    "        self.acc_holder = acc_holder\n",
    "        self.balance = balance\n",
    "\n",
    "    def deposit(self, amount):\n",
    "        self.balance += amount\n",
    "        return f\"Amount ${amount} has been deposited; New Balance: ${self.balance}\"\n",
    "\n",
    "    def withdraw(self, amount):\n",
    "        if amount > self.balance:\n",
    "            return \"Insufficient balance\"\n",
    "        self.balance -= amount\n",
    "        return f\"Amount ${amount} has been withdrawn; New Balance: ${self.balance}\"\n",
    "\n",
    "    def __repr__(self):\n",
    "        return f\"Account holder: {self.acc_holder}, Balance: {self.balance}\"\n",
    "\n",
    "account1 = BankAccount(\"Tariq\", 2500)    "
   ]
  },
  {
   "cell_type": "code",
   "execution_count": 24,
   "id": "3d874b9b-ae84-42b5-988b-37dafaa9ef59",
   "metadata": {},
   "outputs": [
    {
     "data": {
      "text/plain": [
       "'Amount $500 has been deposited; New Balance: $3000'"
      ]
     },
     "execution_count": 24,
     "metadata": {},
     "output_type": "execute_result"
    }
   ],
   "source": [
    "account1.deposit(500)"
   ]
  },
  {
   "cell_type": "code",
   "execution_count": 25,
   "id": "40d1b12c-17ac-44a8-a739-248ca30405cd",
   "metadata": {},
   "outputs": [
    {
     "data": {
      "text/plain": [
       "'Amount $1500 has been withdrawn; New Balance: $1500'"
      ]
     },
     "execution_count": 25,
     "metadata": {},
     "output_type": "execute_result"
    }
   ],
   "source": [
    "account1.withdraw(1500)"
   ]
  },
  {
   "cell_type": "code",
   "execution_count": 28,
   "id": "fe812159-370f-4f82-9d7d-e1e404939516",
   "metadata": {},
   "outputs": [
    {
     "data": {
      "text/plain": [
       "Account holder: Tariq, Balance: 2500"
      ]
     },
     "execution_count": 28,
     "metadata": {},
     "output_type": "execute_result"
    }
   ],
   "source": [
    "account1"
   ]
  },
  {
   "cell_type": "code",
   "execution_count": null,
   "id": "19fd003c-5177-4184-9778-3f73fa65cab4",
   "metadata": {},
   "outputs": [],
   "source": []
  }
 ],
 "metadata": {
  "kernelspec": {
   "display_name": "Python 3 (ipykernel)",
   "language": "python",
   "name": "python3"
  },
  "language_info": {
   "codemirror_mode": {
    "name": "ipython",
    "version": 3
   },
   "file_extension": ".py",
   "mimetype": "text/x-python",
   "name": "python",
   "nbconvert_exporter": "python",
   "pygments_lexer": "ipython3",
   "version": "3.12.9"
  }
 },
 "nbformat": 4,
 "nbformat_minor": 5
}
