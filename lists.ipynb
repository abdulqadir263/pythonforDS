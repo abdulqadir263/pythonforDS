{
 "cells": [
  {
   "cell_type": "markdown",
   "id": "8b63bf6b-da41-4f36-ab5b-cd76a541190c",
   "metadata": {},
   "source": [
    "# Lists and Operations on Lists"
   ]
  },
  {
   "cell_type": "code",
   "execution_count": 2,
   "id": "04c3bc25-c4ae-4148-9a84-958fb4ecb2b2",
   "metadata": {},
   "outputs": [
    {
     "data": {
      "text/plain": [
       "['Ali', 22, 3.5]"
      ]
     },
     "execution_count": 2,
     "metadata": {},
     "output_type": "execute_result"
    }
   ],
   "source": [
    "#creating a simple list> name, age, cgpa\n",
    "list1 = [\"Ali\", 22, 3.5]\n",
    "list1"
   ]
  },
  {
   "cell_type": "code",
   "execution_count": 3,
   "id": "2a04d659-4fa2-4af5-90a5-330a9d37d470",
   "metadata": {},
   "outputs": [
    {
     "name": "stdout",
     "output_type": "stream",
     "text": [
      "Ali\n",
      "22\n",
      "3.5\n"
     ]
    }
   ],
   "source": [
    "#positive indexing\n",
    "print(list1[0])\n",
    "print(list1[1])\n",
    "print(list1[2])"
   ]
  },
  {
   "cell_type": "code",
   "execution_count": 4,
   "id": "e838354e-bfb9-45ed-9863-e58ad2a53f09",
   "metadata": {},
   "outputs": [
    {
     "name": "stdout",
     "output_type": "stream",
     "text": [
      "3.5\n",
      "22\n",
      "Ali\n"
     ]
    }
   ],
   "source": [
    "#negative indexing\n",
    "print(list1[-1])\n",
    "print(list1[-2])\n",
    "print(list1[-3])"
   ]
  },
  {
   "cell_type": "code",
   "execution_count": 5,
   "id": "48922a6f-57cb-423c-bef7-ace449348695",
   "metadata": {},
   "outputs": [
    {
     "data": {
      "text/plain": [
       "['Ali', 22, 3.5, ['Babar', 20, 2.8]]"
      ]
     },
     "execution_count": 5,
     "metadata": {},
     "output_type": "execute_result"
    }
   ],
   "source": [
    "#nesting another list in existing\n",
    "list1 = [\"Ali\", 22, 3.5, [\"Babar\", 20, 2.8] ]\n",
    "list1"
   ]
  },
  {
   "cell_type": "code",
   "execution_count": 6,
   "id": "b2ce5650-c213-4821-918f-53418b3bdb25",
   "metadata": {},
   "outputs": [
    {
     "name": "stdout",
     "output_type": "stream",
     "text": [
      "[22, 3.5]\n",
      "[3.5, ['Babar', 20, 2.8]]\n"
     ]
    }
   ],
   "source": [
    "#slicing\n",
    "print(list1[1:3])\n",
    "print(list1[2:4])"
   ]
  },
  {
   "cell_type": "code",
   "execution_count": 7,
   "id": "7d48cea4-3f70-4685-bcdc-55121ce9072e",
   "metadata": {},
   "outputs": [
    {
     "data": {
      "text/plain": [
       "['Ali', 22, 3.5, ['Babar', 20, 2.8], 'Zahid', 24, 3.2]"
      ]
     },
     "execution_count": 7,
     "metadata": {},
     "output_type": "execute_result"
    }
   ],
   "source": [
    "#extending the list\n",
    "list1\n",
    "list1.extend([\"Zahid\", 24, 3.2])\n",
    "list1"
   ]
  },
  {
   "cell_type": "code",
   "execution_count": 9,
   "id": "1d36672a-ebd6-4e82-bf95-afcab2351f52",
   "metadata": {},
   "outputs": [
    {
     "data": {
      "text/plain": [
       "['Ali', 22, 3.5, ['Babar', 20, 2.8], 'Zahid', 24, 3.2, ['Virat', 35, 3.3]]"
      ]
     },
     "execution_count": 9,
     "metadata": {},
     "output_type": "execute_result"
    }
   ],
   "source": [
    "#appending the list\n",
    "list1.append([\"Virat\", 35, 3.3])\n",
    "list1"
   ]
  },
  {
   "cell_type": "code",
   "execution_count": 11,
   "id": "efd23581-dcd2-42b7-b77d-d54ec6e4b396",
   "metadata": {},
   "outputs": [
    {
     "data": {
      "text/plain": [
       "['Smith', 25, 45.67]"
      ]
     },
     "execution_count": 11,
     "metadata": {},
     "output_type": "execute_result"
    }
   ],
   "source": [
    "#changing the elements of lists\n",
    "list2 = [\"Smith\", 25, 45.67]\n",
    "list2"
   ]
  },
  {
   "cell_type": "code",
   "execution_count": 12,
   "id": "171648d4-7be4-4b02-a070-e4b022bed573",
   "metadata": {},
   "outputs": [
    {
     "data": {
      "text/plain": [
       "['Kane', 25, 45.67]"
      ]
     },
     "execution_count": 12,
     "metadata": {},
     "output_type": "execute_result"
    }
   ],
   "source": [
    "list2[0] = \"Kane\"\n",
    "list2"
   ]
  },
  {
   "cell_type": "code",
   "execution_count": 15,
   "id": "f51bd879-6ef7-44ed-966a-2b20e602797d",
   "metadata": {},
   "outputs": [
    {
     "name": "stdout",
     "output_type": "stream",
     "text": [
      "['Abdul', 'Qadir']\n"
     ]
    }
   ],
   "source": [
    "#spliting strings into the lists - by default space\n",
    "print(\"Abdul Qadir\".split())"
   ]
  },
  {
   "cell_type": "code",
   "execution_count": 16,
   "id": "c3a4b7cc-1349-463b-9370-942ddb38f614",
   "metadata": {},
   "outputs": [
    {
     "name": "stdout",
     "output_type": "stream",
     "text": [
      "A: ['Rohit', 33, 45.78]\n",
      "B: ['Rohit', 33, 45.78]\n"
     ]
    }
   ],
   "source": [
    "# Copy (copy by reference) the list A\n",
    "\n",
    "A = [\"Rohit\", 33, 45.78]\n",
    "B = A\n",
    "print('A:', A)\n",
    "print('B:', B)"
   ]
  },
  {
   "cell_type": "markdown",
   "id": "a4a3df2b-b468-43a6-b434-97178eeaa7f2",
   "metadata": {},
   "source": [
    "## Practice"
   ]
  },
  {
   "cell_type": "code",
   "execution_count": 17,
   "id": "a57075d2-f9f9-4a18-a9d5-6deb39395f85",
   "metadata": {},
   "outputs": [
    {
     "data": {
      "text/plain": [
       "['Watch', 'Laptop', 'Shoes', 'Pen', 'Clothes']"
      ]
     },
     "execution_count": 17,
     "metadata": {},
     "output_type": "execute_result"
    }
   ],
   "source": [
    "items = [\"Watch\",\"Laptop\",\"Shoes\",\"Pen\",\"Clothes\"]\n",
    "items"
   ]
  },
  {
   "cell_type": "code",
   "execution_count": 18,
   "id": "5f39832c-cf5a-434f-b752-ea76c6657090",
   "metadata": {},
   "outputs": [
    {
     "data": {
      "text/plain": [
       "['Watch', 'Laptop', 'Shoes', 'Pen', 'Clothes', 'Bag']"
      ]
     },
     "execution_count": 18,
     "metadata": {},
     "output_type": "execute_result"
    }
   ],
   "source": [
    "items.append(\"Bag\")\n",
    "items"
   ]
  },
  {
   "cell_type": "code",
   "execution_count": 21,
   "id": "158d9be2-3c94-4878-9b53-8a508df788e7",
   "metadata": {},
   "outputs": [
    {
     "data": {
      "text/plain": [
       "'Watch'"
      ]
     },
     "execution_count": 21,
     "metadata": {},
     "output_type": "execute_result"
    }
   ],
   "source": [
    "items[0]"
   ]
  },
  {
   "cell_type": "code",
   "execution_count": 22,
   "id": "26b3c803-206e-46de-a65d-b5c479908637",
   "metadata": {},
   "outputs": [
    {
     "name": "stdout",
     "output_type": "stream",
     "text": [
      "Watch\n",
      "Laptop\n",
      "Shoes\n",
      "Pen\n",
      "Clothes\n",
      "Bag\n"
     ]
    }
   ],
   "source": [
    "for item in items:\n",
    "    print(item)"
   ]
  },
  {
   "cell_type": "code",
   "execution_count": 25,
   "id": "1bd7cac7-c205-4b4e-80b0-a61a5974ddc1",
   "metadata": {},
   "outputs": [
    {
     "name": "stdout",
     "output_type": "stream",
     "text": [
      "['apple', 'banana', 'orange', 'mango', 'grape']\n"
     ]
    }
   ],
   "source": [
    "#extend()\n",
    "fruits = [\"apple\", \"banana\", \"orange\"] \n",
    "more_fruits = [\"mango\", \"grape\"] \n",
    "fruits.extend(more_fruits) \n",
    "print(fruits)"
   ]
  },
  {
   "cell_type": "code",
   "execution_count": 27,
   "id": "2c2f5450-35dd-41a5-b62b-be6b43966f55",
   "metadata": {},
   "outputs": [
    {
     "name": "stdout",
     "output_type": "stream",
     "text": [
      "[1, 2, 6, 3, 4, 5]\n"
     ]
    }
   ],
   "source": [
    "#insert\n",
    "my_list = [1, 2, 3, 4, 5] \n",
    "my_list.insert(2, 6) \n",
    "print(my_list)"
   ]
  },
  {
   "cell_type": "code",
   "execution_count": 28,
   "id": "75513ad7-67f1-48ed-90ba-e8a2e0d96f92",
   "metadata": {},
   "outputs": [
    {
     "name": "stdout",
     "output_type": "stream",
     "text": [
      "30\n",
      "[10, 20, 40, 50]\n"
     ]
    }
   ],
   "source": [
    "#pop()\n",
    "my_list = [10, 20, 30, 40, 50] \n",
    "removed_element = my_list.pop(2) \n",
    "print(removed_element) \n",
    "print(my_list)  "
   ]
  },
  {
   "cell_type": "code",
   "execution_count": 30,
   "id": "e6739a5a-4185-4082-87ef-1f7e8beb6908",
   "metadata": {},
   "outputs": [
    {
     "name": "stdout",
     "output_type": "stream",
     "text": [
      "[5, 4, 3, 2, 1]\n"
     ]
    }
   ],
   "source": [
    "#reverse()\n",
    "my_list = [1, 2, 3, 4, 5] \n",
    "my_list.reverse() \n",
    "print(my_list) "
   ]
  },
  {
   "cell_type": "code",
   "execution_count": 31,
   "id": "ac51ff13-748f-4c0e-9555-b60fa326f9e9",
   "metadata": {},
   "outputs": [
    {
     "name": "stdout",
     "output_type": "stream",
     "text": [
      "[2, 3, 4]\n",
      "[1, 2, 3]\n"
     ]
    }
   ],
   "source": [
    "#slicing\n",
    "my_list = [1, 2, 3, 4, 5] \n",
    "print(my_list[1:4]) \n",
    "print(my_list[:3])"
   ]
  },
  {
   "cell_type": "code",
   "execution_count": 32,
   "id": "1a9c191d-b169-44b3-b018-0516a7344fe4",
   "metadata": {},
   "outputs": [
    {
     "name": "stdout",
     "output_type": "stream",
     "text": [
      "[1, 2, 5, 8, 9, 13, 24, 65, 876]\n"
     ]
    }
   ],
   "source": [
    "#sorting\n",
    "my_list = [5, 2, 8, 1, 9,13,24,65,876] \n",
    "my_list.sort() \n",
    "print(my_list) "
   ]
  },
  {
   "cell_type": "code",
   "execution_count": null,
   "id": "251ccac1-7c3e-40f9-bc3d-41bd5a888b5c",
   "metadata": {},
   "outputs": [],
   "source": []
  }
 ],
 "metadata": {
  "kernelspec": {
   "display_name": "Python 3 (ipykernel)",
   "language": "python",
   "name": "python3"
  },
  "language_info": {
   "codemirror_mode": {
    "name": "ipython",
    "version": 3
   },
   "file_extension": ".py",
   "mimetype": "text/x-python",
   "name": "python",
   "nbconvert_exporter": "python",
   "pygments_lexer": "ipython3",
   "version": "3.12.9"
  }
 },
 "nbformat": 4,
 "nbformat_minor": 5
}
