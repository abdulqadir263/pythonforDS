{
 "cells": [
  {
   "cell_type": "markdown",
   "id": "213900be-0f76-4c83-99fd-07679606c40f",
   "metadata": {},
   "source": [
    "# Functions in Python"
   ]
  },
  {
   "cell_type": "code",
   "execution_count": 1,
   "id": "351cd641-2d24-4435-bccc-fb383bb1bea8",
   "metadata": {},
   "outputs": [
    {
     "data": {
      "text/plain": [
       "6"
      ]
     },
     "execution_count": 1,
     "metadata": {},
     "output_type": "execute_result"
    }
   ],
   "source": [
    "#built in functions\n",
    "numbers = [12, 24, 35, 67, 33, 55]\n",
    "len(numbers)"
   ]
  },
  {
   "cell_type": "code",
   "execution_count": 2,
   "id": "cb7987b0-b3cf-4062-944e-7b19e9d56833",
   "metadata": {},
   "outputs": [
    {
     "data": {
      "text/plain": [
       "226"
      ]
     },
     "execution_count": 2,
     "metadata": {},
     "output_type": "execute_result"
    }
   ],
   "source": [
    "sum(numbers)"
   ]
  },
  {
   "cell_type": "code",
   "execution_count": 4,
   "id": "7bce8c87-9af9-4e33-bbb0-8429ad826594",
   "metadata": {},
   "outputs": [
    {
     "data": {
      "text/plain": [
       "67"
      ]
     },
     "execution_count": 4,
     "metadata": {},
     "output_type": "execute_result"
    }
   ],
   "source": [
    "max(numbers)"
   ]
  },
  {
   "cell_type": "code",
   "execution_count": 5,
   "id": "fb4e5370-9e88-4165-b927-2f4259c60ae8",
   "metadata": {},
   "outputs": [
    {
     "data": {
      "text/plain": [
       "12"
      ]
     },
     "execution_count": 5,
     "metadata": {},
     "output_type": "execute_result"
    }
   ],
   "source": [
    "min(numbers)"
   ]
  },
  {
   "cell_type": "code",
   "execution_count": 20,
   "id": "e5400847-4efd-487d-89a0-4159334736bb",
   "metadata": {},
   "outputs": [
    {
     "data": {
      "text/plain": [
       "[12, 24, 33, 35, 55, 67]"
      ]
     },
     "execution_count": 20,
     "metadata": {},
     "output_type": "execute_result"
    }
   ],
   "source": [
    "#sorting\n",
    "sorted_numbers = sorted(numbers)  \n",
    "sorted_numbers "
   ]
  },
  {
   "cell_type": "code",
   "execution_count": 6,
   "id": "4b375cc0-0f66-4295-a4b7-6329574807b1",
   "metadata": {},
   "outputs": [
    {
     "data": {
      "text/plain": [
       "25"
      ]
     },
     "execution_count": 6,
     "metadata": {},
     "output_type": "execute_result"
    }
   ],
   "source": [
    "#simple functions\n",
    "def add(a, b):\n",
    "    c = a + b\n",
    "    return c\n",
    "add(13, 12)"
   ]
  },
  {
   "cell_type": "code",
   "execution_count": 10,
   "id": "1a7edf03-bcc1-4717-950f-492d8a6004bb",
   "metadata": {},
   "outputs": [
    {
     "data": {
      "text/plain": [
       "156"
      ]
     },
     "execution_count": 10,
     "metadata": {},
     "output_type": "execute_result"
    }
   ],
   "source": [
    "#simple functions\n",
    "def multiple(a, b):\n",
    "    result = a * b\n",
    "    return result\n",
    "multiple(13, 12)"
   ]
  },
  {
   "cell_type": "code",
   "execution_count": 11,
   "id": "6443a7d8-1ef3-479d-b5be-3e8b57ecdd18",
   "metadata": {},
   "outputs": [
    {
     "data": {
      "text/plain": [
       "3387.42"
      ]
     },
     "execution_count": 11,
     "metadata": {},
     "output_type": "execute_result"
    }
   ],
   "source": [
    "multiple(102, 33.21)"
   ]
  },
  {
   "cell_type": "code",
   "execution_count": 12,
   "id": "8be2c6b8-4d95-4bcd-a308-30d478515859",
   "metadata": {},
   "outputs": [
    {
     "data": {
      "text/plain": [
       "'HeyHey'"
      ]
     },
     "execution_count": 12,
     "metadata": {},
     "output_type": "execute_result"
    }
   ],
   "source": [
    "multiple(2, \"Hey\")"
   ]
  },
  {
   "cell_type": "code",
   "execution_count": 48,
   "id": "13bc68fb-924b-4919-998d-49510707a4c0",
   "metadata": {},
   "outputs": [
    {
     "data": {
      "text/plain": [
       "3"
      ]
     },
     "execution_count": 48,
     "metadata": {},
     "output_type": "execute_result"
    }
   ],
   "source": [
    "def divide(a, b):\n",
    "    result = a//b\n",
    "    return result\n",
    "divide(33, 11)"
   ]
  },
  {
   "cell_type": "code",
   "execution_count": 16,
   "id": "bb756799-02c7-44e9-abf3-7abcd6e7d77a",
   "metadata": {},
   "outputs": [
    {
     "name": "stdout",
     "output_type": "stream",
     "text": [
      "Movie: 0, Ratings: 10 \n",
      "Movie: 1, Ratings: 9 \n",
      "Movie: 2, Ratings: 8.7 \n",
      "Movie: 3, Ratings: 7 \n",
      "Movie: 4, Ratings: 5 \n",
      "Movie: 5, Ratings: 3.5 \n"
     ]
    }
   ],
   "source": [
    "#Functions with Loops\n",
    "def print_ratings(ratings):\n",
    "    for i, rating in enumerate(ratings):\n",
    "        print(f\"Movie: {i}, Ratings: {rating} \")\n",
    "movie_ratings = [10, 9, 8.7, 7, 5, 3.5]\n",
    "print_ratings(movie_ratings)"
   ]
  },
  {
   "cell_type": "code",
   "execution_count": 17,
   "id": "e3376005-9a80-4350-9765-a389cfe5f317",
   "metadata": {},
   "outputs": [
    {
     "name": "stdout",
     "output_type": "stream",
     "text": [
      "Tariq\n",
      "Hamza\n",
      "Fakhar\n",
      "Yousuf\n",
      "Salman\n"
     ]
    }
   ],
   "source": [
    "#Variadic Parameters (*args)\n",
    "def print_names(*names):\n",
    "    for name in names:\n",
    "        print(name)\n",
    "print_names(\"Tariq\", \"Hamza\", \"Fakhar\", \"Yousuf\", \"Salman\")"
   ]
  },
  {
   "cell_type": "markdown",
   "id": "08e12060-3b42-47de-ac10-ac2dc153daee",
   "metadata": {},
   "source": [
    "## Problems"
   ]
  },
  {
   "cell_type": "markdown",
   "id": "2f5a899c-379f-4ec5-ac6b-533590580711",
   "metadata": {},
   "source": [
    "### Password Strength Checker"
   ]
  },
  {
   "cell_type": "markdown",
   "id": "d0c9bf19-7b61-4827-9996-50f7f62e45c3",
   "metadata": {},
   "source": [
    "#Password Strength Checker\n",
    "def check_password_strength(password):\n",
    "    if len(password) < 8:\n",
    "        return \"Weak(length less than 8 characters)\"\n",
    "\n",
    "    has_upper = any(char.isupper() for char in password)\n",
    "    has_lower = any(char.islower() for char in password)\n",
    "    has_digit = any(char.isdigit() for char in password)\n",
    "    has_special = any(not char.isalnum() for char in password)\n",
    "\n",
    "    if not (has_upper and has_lower and has_digit and has_special):\n",
    "        return \"Weak: Password must include uppercase, lowercase, digits, and special characters.\"\n",
    "\n",
    "    return \"Strong Password\"\n",
    "\n",
    "check_password_strength(\"123455\")"
   ]
  },
  {
   "cell_type": "code",
   "execution_count": 26,
   "id": "56c198bd-d417-42d9-a572-91aa0cd2fa5d",
   "metadata": {},
   "outputs": [
    {
     "data": {
      "text/plain": [
       "'Weak: Password must include uppercase, lowercase, digits, and special characters.'"
      ]
     },
     "execution_count": 26,
     "metadata": {},
     "output_type": "execute_result"
    }
   ],
   "source": [
    "check_password_strength(\"123abcdef\")"
   ]
  },
  {
   "cell_type": "code",
   "execution_count": 27,
   "id": "ce1e91bb-776d-4f51-b691-8a33c015905b",
   "metadata": {},
   "outputs": [
    {
     "data": {
      "text/plain": [
       "'Strong Password'"
      ]
     },
     "execution_count": 27,
     "metadata": {},
     "output_type": "execute_result"
    }
   ],
   "source": [
    "check_password_strength(\"123Abcd@!g\")"
   ]
  },
  {
   "cell_type": "markdown",
   "id": "fad62f18-cfc2-489f-9b4e-40990d359da8",
   "metadata": {},
   "source": [
    "### Prime Number Checker"
   ]
  },
  {
   "cell_type": "code",
   "execution_count": 32,
   "id": "2dc91861-de91-4f81-a5e4-748f0a320ffa",
   "metadata": {},
   "outputs": [
    {
     "data": {
      "text/plain": [
       "True"
      ]
     },
     "execution_count": 32,
     "metadata": {},
     "output_type": "execute_result"
    }
   ],
   "source": [
    "def is_prime(n):\n",
    "    if n <= 1:\n",
    "        return False\n",
    "    for i in range(2, int(n ** 0.5) + 1):\n",
    "        if n % i == 0:\n",
    "            return False\n",
    "    return True\n",
    "\n",
    "is_prime(7)"
   ]
  },
  {
   "cell_type": "code",
   "execution_count": 33,
   "id": "6be87b5c-27ec-4d3b-b95b-f620bd885dfe",
   "metadata": {},
   "outputs": [
    {
     "data": {
      "text/plain": [
       "False"
      ]
     },
     "execution_count": 33,
     "metadata": {},
     "output_type": "execute_result"
    }
   ],
   "source": [
    "is_prime(9)"
   ]
  },
  {
   "cell_type": "code",
   "execution_count": 36,
   "id": "156ab6bf-7f69-436a-8d00-cc2be1e2f351",
   "metadata": {},
   "outputs": [
    {
     "data": {
      "text/plain": [
       "True"
      ]
     },
     "execution_count": 36,
     "metadata": {},
     "output_type": "execute_result"
    }
   ],
   "source": [
    "is_prime(79)"
   ]
  },
  {
   "cell_type": "markdown",
   "id": "86fab5c3-0eda-4d51-90bf-6e647ca97ee9",
   "metadata": {},
   "source": [
    "### Finding the Longest Word in a Sentence"
   ]
  },
  {
   "cell_type": "code",
   "execution_count": 40,
   "id": "5af73211-b479-40b6-a608-2384a607aab4",
   "metadata": {},
   "outputs": [
    {
     "data": {
      "text/plain": [
       "'enrolled'"
      ]
     },
     "execution_count": 40,
     "metadata": {},
     "output_type": "execute_result"
    }
   ],
   "source": [
    "def longest_word(sentence):\n",
    "    words = sentence.split()\n",
    "    longest = \"\"\n",
    "    for word in words:\n",
    "        if len(word) > len(longest):\n",
    "            longest = word\n",
    "    return longest\n",
    "    \n",
    "longest_word(\"My name is Abdul Qadir. I am enrolled in BSCS\")"
   ]
  },
  {
   "cell_type": "code",
   "execution_count": 41,
   "id": "b3adfb78-1c8d-4564-932f-b69bf8da40de",
   "metadata": {},
   "outputs": [
    {
     "data": {
      "text/plain": [
       "'Sentence'"
      ]
     },
     "execution_count": 41,
     "metadata": {},
     "output_type": "execute_result"
    }
   ],
   "source": [
    "longest_word(\"Finding the Longest Word in a Sentence\")"
   ]
  },
  {
   "cell_type": "markdown",
   "id": "c9be7a44-3a5c-4ca7-8fb8-5679261d82b3",
   "metadata": {},
   "source": [
    "### Temperature Alert System"
   ]
  },
  {
   "cell_type": "code",
   "execution_count": null,
   "id": "f63af30b-7ab3-4589-8a59-a709c70dee34",
   "metadata": {},
   "outputs": [],
   "source": [
    "def temp_alert(current_temp, hist_temps):\n",
    "    if current_temp > 30:\n",
    "        alert = \"Hot: turn on cooling\"\n",
    "    elif current_temp < 10:\n",
    "        alert = \"Cold: turn of cooling\"\n",
    "    else:\n",
    "        alert = \"Normal Temerature\" \n",
    "\n",
    "    if current_temp > max(hist_temps):\n",
    "        alert += \" (Record high!)\"\n",
    "\n",
    "    return alert\n",
    "\n",
    "temps = [23, 21, 11, 36, 30]\n",
    "temp_alert(33, temps)"
   ]
  },
  {
   "cell_type": "code",
   "execution_count": 45,
   "id": "230ce8a8-1a1a-4327-b589-ac95cdee9d2c",
   "metadata": {},
   "outputs": [
    {
     "data": {
      "text/plain": [
       "'Hot: turn on cooling (Record high!)'"
      ]
     },
     "execution_count": 45,
     "metadata": {},
     "output_type": "execute_result"
    }
   ],
   "source": [
    "temp_alert(37, temps)"
   ]
  },
  {
   "cell_type": "markdown",
   "id": "1cd6a4df-fa90-4c81-a64e-a3bdd4e0e434",
   "metadata": {},
   "source": [
    "### ATM Withdrawal"
   ]
  },
  {
   "cell_type": "code",
   "execution_count": 46,
   "id": "8dbb816d-173a-4510-8031-3204ee4539a4",
   "metadata": {},
   "outputs": [
    {
     "name": "stdout",
     "output_type": "stream",
     "text": [
      "{100: 1, 50: 1, 20: 0}\n"
     ]
    }
   ],
   "source": [
    "def atm_withdrawal(amount):\n",
    "    if amount % 20 != 0:\n",
    "        return \"Error: Amount must be in multiples of $20.\"\n",
    "    \n",
    "    bills = {100: 0, 50: 0, 20: 0}\n",
    "    remaining = amount\n",
    "    \n",
    "    for bill in sorted(bills.keys(), reverse=True):\n",
    "        if remaining >= bill:\n",
    "            count = remaining // bill\n",
    "            bills[bill] = count\n",
    "            remaining -= count * bill\n",
    "    \n",
    "    return bills\n",
    "\n",
    "print(atm_withdrawal(160))  "
   ]
  },
  {
   "cell_type": "code",
   "execution_count": null,
   "id": "7020ecc0-2c78-4c6f-98e1-e20b0b38a211",
   "metadata": {},
   "outputs": [],
   "source": []
  },
  {
   "cell_type": "markdown",
   "id": "a0e1eef2-3334-48f5-8300-ecdd9e1b99ad",
   "metadata": {},
   "source": [
    "### Finding counts of a word"
   ]
  },
  {
   "cell_type": "code",
   "execution_count": 53,
   "id": "023dcf41-a022-47f5-a560-40fd102630df",
   "metadata": {},
   "outputs": [
    {
     "name": "stdout",
     "output_type": "stream",
     "text": [
      "Total Count: {'little': 3}\n"
     ]
    }
   ],
   "source": [
    "def count_word(string,passedkey):\n",
    "    \n",
    "    words = []\n",
    "\n",
    "    words = string.split() \n",
    "\n",
    "    Dict = {}\n",
    "\n",
    "    for key in words:\n",
    "        if(key == passedkey):\n",
    "            Dict[key] = words.count(key)   \n",
    "            \n",
    "    print(\"Total Count:\", Dict)\n",
    "\n",
    "count_word(\"Mary had a little lamb Little lamb, little lamb Mary had a little lamb.Its fleece was white as snow And everywhere that Mary went Mary went, Mary went \\\n",
    "Everywhere that Mary went The lamb was sure to go\",\"little\")\n"
   ]
  },
  {
   "cell_type": "code",
   "execution_count": null,
   "id": "5b81d6dd-a963-4dfe-892a-3097fb28e432",
   "metadata": {},
   "outputs": [],
   "source": []
  }
 ],
 "metadata": {
  "kernelspec": {
   "display_name": "Python 3 (ipykernel)",
   "language": "python",
   "name": "python3"
  },
  "language_info": {
   "codemirror_mode": {
    "name": "ipython",
    "version": 3
   },
   "file_extension": ".py",
   "mimetype": "text/x-python",
   "name": "python",
   "nbconvert_exporter": "python",
   "pygments_lexer": "ipython3",
   "version": "3.12.9"
  }
 },
 "nbformat": 4,
 "nbformat_minor": 5
}
